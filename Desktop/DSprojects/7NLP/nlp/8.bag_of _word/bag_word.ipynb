{
 "cells": [
  {
   "cell_type": "markdown",
   "id": "f511ddc1",
   "metadata": {},
   "source": [
    "# NLP Tutorial: Text Representation - Bag Of Words (BOW)\n"
   ]
  },
  {
   "cell_type": "code",
   "execution_count": null,
   "id": "ae3cb54b",
   "metadata": {},
   "outputs": [],
   "source": []
  },
  {
   "cell_type": "code",
   "execution_count": 1,
   "id": "0f2592cb",
   "metadata": {},
   "outputs": [],
   "source": [
    "import pandas as pd\n",
    "import numpy as np\n"
   ]
  },
  {
   "cell_type": "code",
   "execution_count": 2,
   "id": "6faba8b1",
   "metadata": {},
   "outputs": [
    {
     "data": {
      "text/html": [
       "<div>\n",
       "<style scoped>\n",
       "    .dataframe tbody tr th:only-of-type {\n",
       "        vertical-align: middle;\n",
       "    }\n",
       "\n",
       "    .dataframe tbody tr th {\n",
       "        vertical-align: top;\n",
       "    }\n",
       "\n",
       "    .dataframe thead th {\n",
       "        text-align: right;\n",
       "    }\n",
       "</style>\n",
       "<table border=\"1\" class=\"dataframe\">\n",
       "  <thead>\n",
       "    <tr style=\"text-align: right;\">\n",
       "      <th></th>\n",
       "      <th>Category</th>\n",
       "      <th>Message</th>\n",
       "    </tr>\n",
       "  </thead>\n",
       "  <tbody>\n",
       "    <tr>\n",
       "      <th>0</th>\n",
       "      <td>ham</td>\n",
       "      <td>Go until jurong point, crazy.. Available only ...</td>\n",
       "    </tr>\n",
       "    <tr>\n",
       "      <th>1</th>\n",
       "      <td>ham</td>\n",
       "      <td>Ok lar... Joking wif u oni...</td>\n",
       "    </tr>\n",
       "    <tr>\n",
       "      <th>2</th>\n",
       "      <td>spam</td>\n",
       "      <td>Free entry in 2 a wkly comp to win FA Cup fina...</td>\n",
       "    </tr>\n",
       "    <tr>\n",
       "      <th>3</th>\n",
       "      <td>ham</td>\n",
       "      <td>U dun say so early hor... U c already then say...</td>\n",
       "    </tr>\n",
       "    <tr>\n",
       "      <th>4</th>\n",
       "      <td>ham</td>\n",
       "      <td>Nah I don't think he goes to usf, he lives aro...</td>\n",
       "    </tr>\n",
       "  </tbody>\n",
       "</table>\n",
       "</div>"
      ],
      "text/plain": [
       "  Category                                            Message\n",
       "0      ham  Go until jurong point, crazy.. Available only ...\n",
       "1      ham                      Ok lar... Joking wif u oni...\n",
       "2     spam  Free entry in 2 a wkly comp to win FA Cup fina...\n",
       "3      ham  U dun say so early hor... U c already then say...\n",
       "4      ham  Nah I don't think he goes to usf, he lives aro..."
      ]
     },
     "execution_count": 2,
     "metadata": {},
     "output_type": "execute_result"
    }
   ],
   "source": [
    "df=pd.read_csv(\"spam.csv\")\n",
    "df.head()"
   ]
  },
  {
   "cell_type": "code",
   "execution_count": 3,
   "id": "5def2a2e",
   "metadata": {},
   "outputs": [
    {
     "data": {
      "text/plain": [
       "Category\n",
       "ham     4825\n",
       "spam     747\n",
       "Name: count, dtype: int64"
      ]
     },
     "execution_count": 3,
     "metadata": {},
     "output_type": "execute_result"
    }
   ],
   "source": [
    "df.Category.value_counts()"
   ]
  },
  {
   "cell_type": "code",
   "execution_count": 4,
   "id": "03c3b7f6",
   "metadata": {},
   "outputs": [
    {
     "name": "stdout",
     "output_type": "stream",
     "text": [
      "0       0\n",
      "1       0\n",
      "2       1\n",
      "3       0\n",
      "4       0\n",
      "       ..\n",
      "5567    1\n",
      "5568    0\n",
      "5569    0\n",
      "5570    0\n",
      "5571    0\n",
      "Name: spam, Length: 5572, dtype: int64\n"
     ]
    }
   ],
   "source": [
    "df['spam']=df['Category'].apply(lambda x: 1 if x==\"spam\" else 0)\n",
    "print(df['spam'])"
   ]
  },
  {
   "cell_type": "code",
   "execution_count": 5,
   "id": "ab1aeceb",
   "metadata": {},
   "outputs": [
    {
     "data": {
      "text/plain": [
       "(5572, 3)"
      ]
     },
     "execution_count": 5,
     "metadata": {},
     "output_type": "execute_result"
    }
   ],
   "source": [
    "df.shape"
   ]
  },
  {
   "cell_type": "code",
   "execution_count": 6,
   "id": "1b4939cd",
   "metadata": {},
   "outputs": [
    {
     "data": {
      "text/html": [
       "<div>\n",
       "<style scoped>\n",
       "    .dataframe tbody tr th:only-of-type {\n",
       "        vertical-align: middle;\n",
       "    }\n",
       "\n",
       "    .dataframe tbody tr th {\n",
       "        vertical-align: top;\n",
       "    }\n",
       "\n",
       "    .dataframe thead th {\n",
       "        text-align: right;\n",
       "    }\n",
       "</style>\n",
       "<table border=\"1\" class=\"dataframe\">\n",
       "  <thead>\n",
       "    <tr style=\"text-align: right;\">\n",
       "      <th></th>\n",
       "      <th>Category</th>\n",
       "      <th>Message</th>\n",
       "      <th>spam</th>\n",
       "    </tr>\n",
       "  </thead>\n",
       "  <tbody>\n",
       "    <tr>\n",
       "      <th>0</th>\n",
       "      <td>ham</td>\n",
       "      <td>Go until jurong point, crazy.. Available only ...</td>\n",
       "      <td>0</td>\n",
       "    </tr>\n",
       "    <tr>\n",
       "      <th>1</th>\n",
       "      <td>ham</td>\n",
       "      <td>Ok lar... Joking wif u oni...</td>\n",
       "      <td>0</td>\n",
       "    </tr>\n",
       "    <tr>\n",
       "      <th>2</th>\n",
       "      <td>spam</td>\n",
       "      <td>Free entry in 2 a wkly comp to win FA Cup fina...</td>\n",
       "      <td>1</td>\n",
       "    </tr>\n",
       "    <tr>\n",
       "      <th>3</th>\n",
       "      <td>ham</td>\n",
       "      <td>U dun say so early hor... U c already then say...</td>\n",
       "      <td>0</td>\n",
       "    </tr>\n",
       "    <tr>\n",
       "      <th>4</th>\n",
       "      <td>ham</td>\n",
       "      <td>Nah I don't think he goes to usf, he lives aro...</td>\n",
       "      <td>0</td>\n",
       "    </tr>\n",
       "  </tbody>\n",
       "</table>\n",
       "</div>"
      ],
      "text/plain": [
       "  Category                                            Message  spam\n",
       "0      ham  Go until jurong point, crazy.. Available only ...     0\n",
       "1      ham                      Ok lar... Joking wif u oni...     0\n",
       "2     spam  Free entry in 2 a wkly comp to win FA Cup fina...     1\n",
       "3      ham  U dun say so early hor... U c already then say...     0\n",
       "4      ham  Nah I don't think he goes to usf, he lives aro...     0"
      ]
     },
     "execution_count": 6,
     "metadata": {},
     "output_type": "execute_result"
    }
   ],
   "source": [
    "df.head()"
   ]
  },
  {
   "cell_type": "markdown",
   "id": "fe86fa7e",
   "metadata": {},
   "source": [
    "# Train test split"
   ]
  },
  {
   "cell_type": "code",
   "execution_count": 7,
   "id": "0b3311a5",
   "metadata": {},
   "outputs": [
    {
     "name": "stdout",
     "output_type": "stream",
     "text": [
      "0       0\n",
      "1       0\n",
      "2       1\n",
      "3       0\n",
      "4       0\n",
      "       ..\n",
      "5567    1\n",
      "5568    0\n",
      "5569    0\n",
      "5570    0\n",
      "5571    0\n",
      "Name: spam, Length: 5572, dtype: int64\n"
     ]
    }
   ],
   "source": [
    "print(df.spam)"
   ]
  },
  {
   "cell_type": "code",
   "execution_count": 8,
   "id": "d2fa9e56",
   "metadata": {},
   "outputs": [],
   "source": [
    "from sklearn.model_selection import train_test_split\n",
    "\n",
    "X_train, X_test, y_train, y_test = train_test_split(df.Message, df.spam, test_size=0.2)\n"
   ]
  },
  {
   "cell_type": "code",
   "execution_count": 9,
   "id": "b772f2a5",
   "metadata": {},
   "outputs": [
    {
     "data": {
      "text/plain": [
       "(4457,)"
      ]
     },
     "execution_count": 9,
     "metadata": {},
     "output_type": "execute_result"
    }
   ],
   "source": [
    "X_train.shape"
   ]
  },
  {
   "cell_type": "code",
   "execution_count": 10,
   "id": "16971cda",
   "metadata": {},
   "outputs": [
    {
     "data": {
      "text/plain": [
       "(1115,)"
      ]
     },
     "execution_count": 10,
     "metadata": {},
     "output_type": "execute_result"
    }
   ],
   "source": [
    "X_test.shape"
   ]
  },
  {
   "cell_type": "code",
   "execution_count": 11,
   "id": "ec3e5787",
   "metadata": {},
   "outputs": [
    {
     "data": {
      "text/plain": [
       "pandas.core.series.Series"
      ]
     },
     "execution_count": 11,
     "metadata": {},
     "output_type": "execute_result"
    }
   ],
   "source": [
    "type(X_train)"
   ]
  },
  {
   "cell_type": "code",
   "execution_count": 12,
   "id": "d61dd18c",
   "metadata": {},
   "outputs": [
    {
     "data": {
      "text/plain": [
       "82                       Ok i am on the way to home hi hi\n",
       "3012                Hm good morning, headache anyone? :-)\n",
       "1176    Horrible u eat macs eat until u forgot abt me ...\n",
       "4509                             Not able to do anything.\n",
       "Name: Message, dtype: object"
      ]
     },
     "execution_count": 12,
     "metadata": {},
     "output_type": "execute_result"
    }
   ],
   "source": [
    "X_train[:4]"
   ]
  },
  {
   "cell_type": "code",
   "execution_count": 13,
   "id": "87ef4924",
   "metadata": {},
   "outputs": [
    {
     "data": {
      "text/plain": [
       "pandas.core.series.Series"
      ]
     },
     "execution_count": 13,
     "metadata": {},
     "output_type": "execute_result"
    }
   ],
   "source": [
    "type(y_train)"
   ]
  },
  {
   "cell_type": "code",
   "execution_count": 24,
   "id": "531b71b6",
   "metadata": {},
   "outputs": [
    {
     "data": {
      "text/plain": [
       "603     0\n",
       "5221    0\n",
       "776     0\n",
       "1131    0\n",
       "Name: spam, dtype: int64"
      ]
     },
     "execution_count": 24,
     "metadata": {},
     "output_type": "execute_result"
    }
   ],
   "source": [
    "y_train[:4]"
   ]
  },
  {
   "cell_type": "code",
   "execution_count": 14,
   "id": "68421b45",
   "metadata": {},
   "outputs": [
    {
     "data": {
      "text/plain": [
       "numpy.ndarray"
      ]
     },
     "execution_count": 14,
     "metadata": {},
     "output_type": "execute_result"
    }
   ],
   "source": [
    "type(X_train.values)"
   ]
  },
  {
   "cell_type": "markdown",
   "id": "de2206b6",
   "metadata": {},
   "source": [
    "# Create bag of words representation using CountVectorizer"
   ]
  },
  {
   "cell_type": "code",
   "execution_count": 21,
   "id": "4f52ff01",
   "metadata": {},
   "outputs": [
    {
     "data": {
      "text/plain": [
       "<4457x7780 sparse matrix of type '<class 'numpy.int64'>'\n",
       "\twith 59215 stored elements in Compressed Sparse Row format>"
      ]
     },
     "execution_count": 21,
     "metadata": {},
     "output_type": "execute_result"
    }
   ],
   "source": [
    "from sklearn.feature_extraction.text import CountVectorizer\n",
    "v=CountVectorizer()\n",
    "X_train_cv=v.fit_transform(X_train.values)\n",
    "X_train_cv\n",
    "\n"
   ]
  },
  {
   "cell_type": "code",
   "execution_count": 22,
   "id": "d50e6e67",
   "metadata": {},
   "outputs": [
    {
     "data": {
      "text/plain": [
       "array([0, 0, 0, ..., 0, 0, 0], dtype=int64)"
      ]
     },
     "execution_count": 22,
     "metadata": {},
     "output_type": "execute_result"
    }
   ],
   "source": [
    "X_train_cv.toarray()[:2][0]\n"
   ]
  },
  {
   "cell_type": "code",
   "execution_count": 23,
   "id": "4c33f8ab",
   "metadata": {},
   "outputs": [
    {
     "data": {
      "text/plain": [
       "(4457, 7780)"
      ]
     },
     "execution_count": 23,
     "metadata": {},
     "output_type": "execute_result"
    }
   ],
   "source": [
    "X_train_cv.shape"
   ]
  },
  {
   "cell_type": "code",
   "execution_count": 24,
   "id": "04e0994f",
   "metadata": {},
   "outputs": [
    {
     "data": {
      "text/plain": [
       "'checkin'"
      ]
     },
     "execution_count": 24,
     "metadata": {},
     "output_type": "execute_result"
    }
   ],
   "source": [
    "v.get_feature_names_out()[1771]"
   ]
  },
  {
   "cell_type": "code",
   "execution_count": 25,
   "id": "87d00b50",
   "metadata": {},
   "outputs": [
    {
     "data": {
      "text/plain": [
       "{'ok': 4952,\n",
       " 'am': 946,\n",
       " 'on': 4971,\n",
       " 'the': 6859,\n",
       " 'way': 7458,\n",
       " 'to': 6981,\n",
       " 'home': 3490,\n",
       " 'hi': 3442,\n",
       " 'hm': 3468,\n",
       " 'good': 3194,\n",
       " 'morning': 4616,\n",
       " 'headache': 3384,\n",
       " 'anyone': 1007,\n",
       " 'horrible': 3518,\n",
       " 'eat': 2540,\n",
       " 'macs': 4320,\n",
       " 'until': 7231,\n",
       " 'forgot': 2962,\n",
       " 'abt': 775,\n",
       " 'me': 4428,\n",
       " 'already': 936,\n",
       " 'rite': 5838,\n",
       " 'take': 6734,\n",
       " 'so': 6321,\n",
       " 'long': 4209,\n",
       " 'reply': 5759,\n",
       " 'thk': 6900,\n",
       " 'it': 3774,\n",
       " 'more': 4612,\n",
       " 'toot': 7024,\n",
       " 'than': 6844,\n",
       " 'b4': 1193,\n",
       " 'prepared': 5427,\n",
       " 'now': 4875,\n",
       " 'wat': 7442,\n",
       " 'shall': 6103,\n",
       " 'not': 4861,\n",
       " 'able': 766,\n",
       " 'do': 2389,\n",
       " 'anything': 1012,\n",
       " 'hey': 3438,\n",
       " 'what': 7520,\n",
       " 'are': 1062,\n",
       " 'you': 7746,\n",
       " 'doing': 2415,\n",
       " 'no': 4827,\n",
       " 'pa': 5083,\n",
       " 'chile': 1805,\n",
       " 'please': 5289,\n",
       " 'only': 4982,\n",
       " 'lt': 4269,\n",
       " 'decimal': 2218,\n",
       " 'gt': 3270,\n",
       " 'hour': 3530,\n",
       " 'drive': 2477,\n",
       " 'for': 2951,\n",
       " 'come': 1924,\n",
       " 'down': 2449,\n",
       " 'all': 923,\n",
       " 'time': 6947,\n",
       " 'and': 971,\n",
       " 'will': 7563,\n",
       " 'be': 1284,\n",
       " 'subletting': 6596,\n",
       " 'feb': 2813,\n",
       " 'april': 1051,\n",
       " 'audition': 1153,\n",
       " 'season': 6012,\n",
       " '4mths': 536,\n",
       " 'half': 3317,\n",
       " 'price': 5448,\n",
       " 'orange': 5017,\n",
       " 'line': 4141,\n",
       " 'rental': 5746,\n",
       " 'latest': 4043,\n",
       " 'camera': 1640,\n",
       " 'phones': 5227,\n",
       " 'free': 2992,\n",
       " 'had': 3305,\n",
       " 'your': 7752,\n",
       " 'phone': 5224,\n",
       " '11mths': 276,\n",
       " 'call': 1622,\n",
       " 'mobilesdirect': 4573,\n",
       " '08000938767': 51,\n",
       " 'update': 7237,\n",
       " 'or2stoptxt': 5015,\n",
       " 'thats': 6858,\n",
       " 'cool': 2023,\n",
       " 'sometimes': 6345,\n",
       " 'slow': 6278,\n",
       " 'gentle': 3116,\n",
       " 'sonetimes': 6354,\n",
       " 'rough': 5867,\n",
       " 'hard': 3349,\n",
       " 'well': 7499,\n",
       " 'little': 4169,\n",
       " 'thing': 6889,\n",
       " 'of': 4927,\n",
       " 'times': 6948,\n",
       " 'ahead': 884,\n",
       " 'ask': 1109,\n",
       " 'one': 4977,\n",
       " 'if': 3617,\n",
       " 'dont': 2429,\n",
       " 'mistake': 4544,\n",
       " 'log': 4195,\n",
       " 'off': 4929,\n",
       " 'sdryb8i': 6007,\n",
       " 'says': 5970,\n",
       " 'year': 7722,\n",
       " 'old': 4963,\n",
       " 'with': 7592,\n",
       " 'man': 4359,\n",
       " 'money': 4598,\n",
       " 'my': 4697,\n",
       " 'last': 4036,\n",
       " 'still': 6526,\n",
       " 'waiting': 7400,\n",
       " 'that': 6855,\n",
       " 'check': 1768,\n",
       " 'can': 1643,\n",
       " 'honeymoon': 3496,\n",
       " 'outfit': 5051,\n",
       " 'double': 2442,\n",
       " 'mins': 4521,\n",
       " 'txt': 7142,\n",
       " 'linerental': 4144,\n",
       " 'bluetooth': 1420,\n",
       " 'mobiles': 4572,\n",
       " 'mobileupd8': 4574,\n",
       " 'very': 7319,\n",
       " 'offers': 4935,\n",
       " '08000839402': 49,\n",
       " 'or': 5013,\n",
       " 'call2optout': 1624,\n",
       " 'lf56': 4104,\n",
       " 'how': 3537,\n",
       " 'babes': 1202,\n",
       " 'hope': 3506,\n",
       " 'shit': 6137,\n",
       " 'nights': 4811,\n",
       " 'sleep': 6259,\n",
       " 'fell': 2825,\n",
       " 'asleep': 1116,\n",
       " 'at': 1130,\n",
       " 'knackered': 3971,\n",
       " 'dreading': 2465,\n",
       " 'work': 7634,\n",
       " 'tonight': 7014,\n",
       " 'thou': 6909,\n",
       " 'upto': 7248,\n",
       " 'cutest': 2146,\n",
       " 'girl': 3146,\n",
       " 'in': 3658,\n",
       " 'world': 7641,\n",
       " 'liked': 4127,\n",
       " 'new': 4788,\n",
       " 'house': 3533,\n",
       " 'love': 4245,\n",
       " 'excited': 2712,\n",
       " 'each': 2525,\n",
       " 'day': 2195,\n",
       " 'spend': 6419,\n",
       " 'make': 4349,\n",
       " 'happy': 3348,\n",
       " 'thanx': 6852,\n",
       " 'lot': 4231,\n",
       " 'ur': 7250,\n",
       " 'help': 3417,\n",
       " 'gonna': 3192,\n",
       " 'rip': 5833,\n",
       " 'out': 5047,\n",
       " 'uterus': 7279,\n",
       " 'wewa': 7518,\n",
       " 'is': 3762,\n",
       " '130': 291,\n",
       " 'iriver': 3756,\n",
       " '255': 375,\n",
       " '128': 286,\n",
       " 'mb': 4422,\n",
       " 'back': 1209,\n",
       " 'journey': 3868,\n",
       " 'let': 4100,\n",
       " 'know': 3978,\n",
       " 'need': 4755,\n",
       " 'any': 1003,\n",
       " 'receipts': 5666,\n",
       " 'tell': 6798,\n",
       " 'like': 4126,\n",
       " 'pendent': 5177,\n",
       " 'neva': 4782,\n",
       " 'mind': 4509,\n",
       " 'tampa': 6748,\n",
       " 'ffffuuuuuuu': 2837,\n",
       " 'he': 3382,\n",
       " 'an': 967,\n",
       " 'adult': 842,\n",
       " 'would': 7655,\n",
       " 'learn': 4071,\n",
       " 'from': 3028,\n",
       " 'experience': 2730,\n",
       " 'there': 6876,\n",
       " 'real': 5642,\n",
       " 'danger': 2171,\n",
       " 'just': 3890,\n",
       " 'peeps': 5173,\n",
       " 'using': 7275,\n",
       " 'drugs': 2489,\n",
       " 'they': 6884,\n",
       " 'but': 1591,\n",
       " 'comment': 1932,\n",
       " 'its': 3781,\n",
       " 'been': 1306,\n",
       " 'ages': 877,\n",
       " 'abj': 765,\n",
       " 'send': 6049,\n",
       " 'print': 5454,\n",
       " 'outs': 5055,\n",
       " 'da': 2155,\n",
       " 'we': 7461,\n",
       " 'don': 2425,\n",
       " 'oh': 4947,\n",
       " 'give': 3152,\n",
       " 'us': 7264,\n",
       " 'hypertension': 3587,\n",
       " 'get': 3125,\n",
       " 'paid': 5092,\n",
       " 'most': 4621,\n",
       " 'outstanding': 5059,\n",
       " 'commercial': 1933,\n",
       " 'did': 2313,\n",
       " 'hasbro': 3360,\n",
       " 'august': 1156,\n",
       " 'made': 4325,\n",
       " 'jump': 3884,\n",
       " 'through': 6920,\n",
       " 'many': 4374,\n",
       " 'hoops': 3504,\n",
       " 'means': 4434,\n",
       " 'have': 3371,\n",
       " 'fat': 2796,\n",
       " 'head': 3383,\n",
       " 'got': 3212,\n",
       " 'outta': 5060,\n",
       " 'class': 1845,\n",
       " 'go': 3170,\n",
       " 'gym': 3298,\n",
       " 'shhhhh': 6125,\n",
       " 'nobody': 4830,\n",
       " 'supposed': 6667,\n",
       " 'mine': 4512,\n",
       " 'here': 3429,\n",
       " 'fr': 2981,\n",
       " 'china': 1809,\n",
       " 'then': 6871,\n",
       " 'noisy': 4834,\n",
       " 'afternoon': 864,\n",
       " 'boytoy': 1490,\n",
       " 'feeling': 2819,\n",
       " 'today': 6987,\n",
       " 'better': 1343,\n",
       " 'being': 1322,\n",
       " 'boy': 1485,\n",
       " 'obedient': 4913,\n",
       " 'slave': 6258,\n",
       " 'queen': 5564,\n",
       " 'gettin': 3130,\n",
       " 'rdy': 5631,\n",
       " 'ship': 6132,\n",
       " 'comp': 1938,\n",
       " 'really': 5651,\n",
       " 'air': 892,\n",
       " 'talent': 6739,\n",
       " 'actor': 814,\n",
       " 'when': 7527,\n",
       " 'evening': 2675,\n",
       " 'late': 4039,\n",
       " 'since': 6214,\n",
       " 'unemployed': 7199,\n",
       " 'moment': 4592,\n",
       " 'always': 944,\n",
       " 're': 5632,\n",
       " 'every': 2680,\n",
       " 'saturday': 5959,\n",
       " 'by': 1605,\n",
       " 'our': 5045,\n",
       " 'room': 5860,\n",
       " 'some': 6334,\n",
       " 'point': 5326,\n",
       " 'iron': 3757,\n",
       " 'plan': 5271,\n",
       " 'this': 6899,\n",
       " 'weekend': 7485,\n",
       " 'should': 6163,\n",
       " 'about': 768,\n",
       " 'min': 4507,\n",
       " 'she': 6115,\n",
       " 'said': 5919,\n",
       " 'into': 3733,\n",
       " 'bedroom': 1304,\n",
       " 'minute': 4524,\n",
       " 'sed': 6025,\n",
       " 'sexy': 6087,\n",
       " 'mood': 4609,\n",
       " 'came': 1639,\n",
       " 'minuts': 4526,\n",
       " 'latr': 4044,\n",
       " 'wid': 7551,\n",
       " 'cake': 1614,\n",
       " 'wife': 7554,\n",
       " 'tone': 7009,\n",
       " 'club': 1872,\n",
       " 'subs': 6600,\n",
       " 'has': 3359,\n",
       " 'expired': 2734,\n",
       " 'sub': 6594,\n",
       " 'monoc': 4602,\n",
       " 'monos': 4603,\n",
       " 'polyc': 5336,\n",
       " 'polys': 5340,\n",
       " 'weekly': 7487,\n",
       " '150p': 305,\n",
       " 'per': 5182,\n",
       " 'week': 7483,\n",
       " 'stop': 6537,\n",
       " 'msg': 4645,\n",
       " 'stream': 6554,\n",
       " '0871212025016': 97,\n",
       " 'dunno': 2513,\n",
       " 'jus': 3889,\n",
       " 'say': 5966,\n",
       " 'lido': 4111,\n",
       " 'same': 5934,\n",
       " '930': 733,\n",
       " 'goes': 3178,\n",
       " 'walking': 7409,\n",
       " 'police': 5331,\n",
       " 'abstract': 774,\n",
       " 'wake': 7401,\n",
       " 'miss': 4535,\n",
       " 'babe': 1201,\n",
       " 'skint': 6248,\n",
       " 'too': 7019,\n",
       " 'fancied': 2783,\n",
       " 'few': 2834,\n",
       " 'bevies': 1348,\n",
       " 'waz': 7459,\n",
       " 'gona': 3190,\n",
       " 'meet': 4446,\n",
       " 'othrs': 5041,\n",
       " 'spoon': 6446,\n",
       " 'jst': 3874,\n",
       " 'bin': 1370,\n",
       " 'watchng': 7447,\n",
       " 'planet': 5273,\n",
       " 'earth': 2532,\n",
       " 'sofa': 6324,\n",
       " 'comfey': 1927,\n",
       " 'hav': 3367,\n",
       " 'gd': 3103,\n",
       " 'night': 4808,\n",
       " 'slowly': 6279,\n",
       " 'god': 3176,\n",
       " 'amp': 960,\n",
       " 'clean': 1849,\n",
       " 'heart': 3397,\n",
       " 'blood': 1412,\n",
       " 'ten': 6809,\n",
       " 'special': 6405,\n",
       " 'people': 5181,\n",
       " 'miracle': 4527,\n",
       " 'tomorrow': 7008,\n",
       " 'pls': 5297,\n",
       " 'merry': 4476,\n",
       " 'christmas': 1827,\n",
       " 'ya': 7708,\n",
       " 'kisses': 3965,\n",
       " 'sorry': 6370,\n",
       " 'knw': 3982,\n",
       " 'who': 7540,\n",
       " 'ru': 5882,\n",
       " 'aslamalaikkum': 1115,\n",
       " 'insha': 3710,\n",
       " 'allah': 924,\n",
       " 'tohar': 6992,\n",
       " 'beeen': 1305,\n",
       " 'muht': 4668,\n",
       " 'albi': 907,\n",
       " 'mufti': 4666,\n",
       " 'mahfuuz': 4339,\n",
       " 'meaning': 4432,\n",
       " 'mates': 4404,\n",
       " 'didnt': 2316,\n",
       " 'write': 7665,\n",
       " 'kate': 3916,\n",
       " 'nannys': 4723,\n",
       " 'address': 824,\n",
       " 'meeting': 4448,\n",
       " 'tel': 6793,\n",
       " 'sunshine': 6652,\n",
       " 'quiz': 5577,\n",
       " 'wkly': 7605,\n",
       " 'win': 7566,\n",
       " 'top': 7028,\n",
       " 'sony': 6357,\n",
       " 'dvd': 2520,\n",
       " 'player': 5282,\n",
       " 'which': 7534,\n",
       " 'country': 2052,\n",
       " 'algarve': 916,\n",
       " 'ansr': 993,\n",
       " '82277': 664,\n",
       " '50': 549,\n",
       " 'sp': 6392,\n",
       " 'tyrone': 7156,\n",
       " 'jetton': 3838,\n",
       " 'ave': 1172,\n",
       " 'see': 6026,\n",
       " 'where': 7531,\n",
       " 'charge': 1748,\n",
       " 'course': 2058,\n",
       " '2yrs': 432,\n",
       " 'her': 3428,\n",
       " 'messages': 4480,\n",
       " 'messenger': 4483,\n",
       " 'lik': 4125,\n",
       " 'sending': 6051,\n",
       " 'tall': 6746,\n",
       " 'princess': 5453,\n",
       " 'yes': 7731,\n",
       " 'fine': 2869,\n",
       " 'safe': 5916,\n",
       " 'fetch': 2831,\n",
       " 'yun': 7765,\n",
       " 'unlimited': 7219,\n",
       " 'hardcore': 3350,\n",
       " 'porn': 5355,\n",
       " 'direct': 2346,\n",
       " 'mobile': 4571,\n",
       " '69200': 602,\n",
       " 'access': 785,\n",
       " '24': 368,\n",
       " 'hrs': 3548,\n",
       " 'chrgd': 1825,\n",
       " '50p': 556,\n",
       " '2exit': 391,\n",
       " 'fret': 3006,\n",
       " 'll': 4178,\n",
       " 'buy': 1595,\n",
       " 'ovulation': 5070,\n",
       " 'test': 6825,\n",
       " 'strips': 6565,\n",
       " 'them': 6867,\n",
       " 'wont': 7625,\n",
       " 'til': 6944,\n",
       " 'march': 4378,\n",
       " 'postal': 5373,\n",
       " 'alright': 937,\n",
       " 'okay': 4953,\n",
       " 'words': 7633,\n",
       " 'may': 4419,\n",
       " 'leave': 4075,\n",
       " 'dismay': 2370,\n",
       " 'turns': 7130,\n",
       " 'stereo': 6516,\n",
       " 'mi': 4490,\n",
       " 'under': 7191,\n",
       " 'unknown': 7216,\n",
       " 'album': 908,\n",
       " 'birthday': 1376,\n",
       " 'great': 3248,\n",
       " 'deal': 2204,\n",
       " 'farm': 2791,\n",
       " 'tour': 7047,\n",
       " '9am': 743,\n",
       " '5pm': 579,\n",
       " '95': 735,\n",
       " 'pax': 5155,\n",
       " 'deposit': 2268,\n",
       " '16': 315,\n",
       " 'popping': 5354,\n",
       " 'ibuprofens': 3597,\n",
       " 'was': 7435,\n",
       " 'want': 7423,\n",
       " 'kappa': 3913,\n",
       " 'outside': 5056,\n",
       " 'mu': 4660,\n",
       " 'trip': 7090,\n",
       " 'panic': 5103,\n",
       " 'surrender': 6679,\n",
       " 'plz': 5303,\n",
       " 'note': 4862,\n",
       " 'calling': 1632,\n",
       " 'co': 1885,\n",
       " 'asks': 1114,\n",
       " 'type': 7153,\n",
       " 'disconnect': 2362,\n",
       " 'coz': 2064,\n",
       " 'iz': 3789,\n",
       " 'attempt': 1142,\n",
       " 'terrorist': 6822,\n",
       " 'use': 7267,\n",
       " 'sim': 6208,\n",
       " 'card': 1663,\n",
       " 'itz': 3785,\n",
       " 'confirmd': 1978,\n",
       " 'nokia': 4836,\n",
       " 'motorola': 4627,\n",
       " 'verified': 7314,\n",
       " 'cnn': 1883,\n",
       " 'ibn': 3595,\n",
       " 'ready': 5641,\n",
       " 'inches': 3662,\n",
       " 'pleasure': 5292,\n",
       " 'haha': 3308,\n",
       " 'used': 7268,\n",
       " 'driving': 2480,\n",
       " 'usf': 7273,\n",
       " 'stoners': 6535,\n",
       " 'serving': 6073,\n",
       " 'mean': 4431,\n",
       " 'chat': 1760,\n",
       " 'luck': 4274,\n",
       " 'someone': 6338,\n",
       " 'fortune': 2970,\n",
       " 'loves': 4253,\n",
       " 'person': 5200,\n",
       " 'except': 2711,\n",
       " 'gud': 3276,\n",
       " 'nyt': 4906,\n",
       " 'blake': 1389,\n",
       " 'might': 4497,\n",
       " 'early': 2530,\n",
       " 'boat': 1425,\n",
       " 'moms': 4594,\n",
       " 'yo': 7742,\n",
       " 'naked': 4712,\n",
       " 'ah': 882,\n",
       " 'poop': 5347,\n",
       " 'looks': 4218,\n",
       " 'ill': 3630,\n",
       " 'prob': 5466,\n",
       " 'laptop': 4029,\n",
       " 'fixed': 2891,\n",
       " 'cuz': 2150,\n",
       " 'gpu': 3224,\n",
       " 'problem': 5468,\n",
       " 'yeah': 7721,\n",
       " 'random': 5608,\n",
       " 'dude': 2503,\n",
       " 'change': 1738,\n",
       " 'info': 3691,\n",
       " 'sheets': 6116,\n",
       " 'party': 5135,\n",
       " 'never': 4784,\n",
       " 'study': 6581,\n",
       " '447801259231': 507,\n",
       " 'secret': 6018,\n",
       " 'admirer': 831,\n",
       " 'looking': 4217,\n",
       " 'contact': 1998,\n",
       " 'find': 2866,\n",
       " 'reveal': 5808,\n",
       " 'thinks': 6895,\n",
       " '09058094597': 181,\n",
       " 'missing': 4538,\n",
       " 'pray': 5411,\n",
       " 'inshah': 3711,\n",
       " 'buying': 1596,\n",
       " 'school': 5982,\n",
       " 'offer': 4932,\n",
       " '2000': 350,\n",
       " 'plus': 5302,\n",
       " 'lab': 4004,\n",
       " 'goggles': 3179,\n",
       " 'went': 7505,\n",
       " 'awesome': 1185,\n",
       " 'question': 5567,\n",
       " 'cute': 2144,\n",
       " 'answer': 994,\n",
       " 'asked': 1111,\n",
       " 'life': 4114,\n",
       " 'smiled': 6294,\n",
       " 'answered': 995,\n",
       " 'gudnite': 3278,\n",
       " 'message': 4478,\n",
       " 'activate': 811,\n",
       " '500': 550,\n",
       " 'text': 6830,\n",
       " 'replying': 5760,\n",
       " 'word': 7632,\n",
       " 'terms': 6817,\n",
       " 'conditions': 1971,\n",
       " 'visit': 7353,\n",
       " 'www': 7683,\n",
       " '07781482378': 32,\n",
       " 'com': 1918,\n",
       " 'friends': 3013,\n",
       " 'valentines': 7290,\n",
       " 'url': 7261,\n",
       " 'enjoy': 2618,\n",
       " 'drink': 2472,\n",
       " 'plenty': 5294,\n",
       " 'water': 7448,\n",
       " 'okie': 4956,\n",
       " 'working': 7638,\n",
       " 'bus': 1585,\n",
       " 'leaves': 4076,\n",
       " 'lovely': 4248,\n",
       " 'sure': 6671,\n",
       " 'think': 6891,\n",
       " 'wot': 7651,\n",
       " 'drinkin': 2473,\n",
       " 'dancin': 2167,\n",
       " 'eatin': 2542,\n",
       " 'cinema': 1832,\n",
       " 'up': 7233,\n",
       " 'probs': 5474,\n",
       " 'hon': 3492,\n",
       " 'doinat': 2414,\n",
       " 'mo': 4567,\n",
       " 'smile': 6293,\n",
       " 'pain': 5093,\n",
       " 'trouble': 7095,\n",
       " 'pours': 5388,\n",
       " 'rain': 5592,\n",
       " 'sum1': 6636,\n",
       " 'hurts': 3576,\n",
       " 'becoz': 1299,\n",
       " 'smiling': 6297,\n",
       " 'crab': 2069,\n",
       " 'running': 5897,\n",
       " 'sea': 6009,\n",
       " 'shore': 6153,\n",
       " 'waves': 7457,\n",
       " 'cleared': 1851,\n",
       " 'footprints': 2949,\n",
       " 'frnd': 3020,\n",
       " 'clearing': 1853,\n",
       " 'beautiful': 1291,\n",
       " 'replied': 5757,\n",
       " 'fox': 2980,\n",
       " 'following': 2935,\n",
       " 'catch': 1696,\n",
       " 'frndsship': 3024,\n",
       " 'lets': 4101,\n",
       " 'dwn': 2522,\n",
       " 'care': 1667,\n",
       " 'later': 4042,\n",
       " 'far': 2790,\n",
       " 'login': 4198,\n",
       " 'gas': 3090,\n",
       " 'station': 6500,\n",
       " 'block': 1403,\n",
       " 'away': 1184,\n",
       " 'right': 5822,\n",
       " 'armenia': 1080,\n",
       " 'ends': 2608,\n",
       " 'swann': 6690,\n",
       " 'howard': 3538,\n",
       " 'wud': 7679,\n",
       " 'wil': 7559,\n",
       " 'hurt': 3574,\n",
       " 'wen': 7502,\n",
       " '4goten': 533,\n",
       " 'bout': 1466,\n",
       " 'scammers': 5974,\n",
       " 'getting': 3131,\n",
       " 'smart': 6284,\n",
       " 'though': 6910,\n",
       " 'regular': 5711,\n",
       " 'vodafone': 7362,\n",
       " 'respond': 5783,\n",
       " 'further': 3058,\n",
       " 'prem': 5421,\n",
       " 'rate': 5617,\n",
       " 'subscription': 6607,\n",
       " 'other': 5038,\n",
       " 'nos': 4857,\n",
       " 'also': 939,\n",
       " 'beware': 1349,\n",
       " 'going': 3183,\n",
       " 'try': 7106,\n",
       " 'months': 4608,\n",
       " 'ha': 3301,\n",
       " 'joking': 3860,\n",
       " 'video': 7330,\n",
       " 'movie': 4634,\n",
       " 'collect': 1909,\n",
       " '89105': 715,\n",
       " 'extra': 2747,\n",
       " 'films': 2858,\n",
       " 'ordered': 5021,\n",
       " 'apply': 1037,\n",
       " '18': 320,\n",
       " 'yrs': 7761,\n",
       " 'tirupur': 6958,\n",
       " 'dizzamn': 2382,\n",
       " 'aight': 889,\n",
       " 'suitemates': 6632,\n",
       " 'monthly': 4606,\n",
       " 'password': 5143,\n",
       " 'wap': 7428,\n",
       " 'mobsi': 4577,\n",
       " '391784': 464,\n",
       " 'pc': 5165,\n",
       " 'yar': 7713,\n",
       " 'error': 2651,\n",
       " 'chennai': 1784,\n",
       " 'velachery': 7311,\n",
       " 'ic': 3598,\n",
       " 'lotta': 4236,\n",
       " 'childporn': 1802,\n",
       " 'cars': 1682,\n",
       " 'liverpool': 4173,\n",
       " 'played': 5281,\n",
       " 'mid': 4493,\n",
       " 'congrats': 1983,\n",
       " '3g': 468,\n",
       " 'videophones': 7332,\n",
       " 'yours': 7756,\n",
       " '09061744553': 203,\n",
       " 'videochat': 7331,\n",
       " 'play': 5280,\n",
       " 'java': 3816,\n",
       " 'games': 3077,\n",
       " 'dload': 2386,\n",
       " 'polyh': 5337,\n",
       " 'music': 4685,\n",
       " 'noline': 4840,\n",
       " 'rentl': 5747,\n",
       " 'bx420': 1603,\n",
       " 'ip4': 3749,\n",
       " '5we': 582,\n",
       " '150pm': 307,\n",
       " 'omg': 4969,\n",
       " 'joanna': 3846,\n",
       " 'freaking': 2990,\n",
       " 'looked': 4215,\n",
       " 'thru': 6925,\n",
       " 'photos': 5229,\n",
       " 'asking': 1113,\n",
       " 'stuff': 6584,\n",
       " 'myspace': 4703,\n",
       " 'haven': 3373,\n",
       " 'even': 2674,\n",
       " 'logged': 4196,\n",
       " 'lookin': 4216,\n",
       " 'saucy': 5960,\n",
       " 'daytime': 2197,\n",
       " 'fun': 3049,\n",
       " 'wiv': 7599,\n",
       " 'busty': 1589,\n",
       " 'married': 4388,\n",
       " 'woman': 7615,\n",
       " 'next': 4797,\n",
       " 'sort': 6371,\n",
       " '09099726429': 248,\n",
       " 'janinexx': 3809,\n",
       " 'calls': 1634,\n",
       " 'minmobsmorelkpobox177hp51fl': 4517,\n",
       " 'run': 5896,\n",
       " 'frm': 3018,\n",
       " 'walk': 7405,\n",
       " 'kills': 3954,\n",
       " 'enough': 2624,\n",
       " 'watching': 7446,\n",
       " 'tv': 7132,\n",
       " 'lor': 4223,\n",
       " 'funny': 3056,\n",
       " 'bluff': 1422,\n",
       " 'izzit': 3790,\n",
       " 'because': 1295,\n",
       " 'impossible': 3651,\n",
       " 'between': 1346,\n",
       " 'maybe': 4421,\n",
       " '7ish': 638,\n",
       " 'friend': 3012,\n",
       " 'told': 6998,\n",
       " 'im': 3633,\n",
       " 'realy': 5653,\n",
       " 'soz': 6390,\n",
       " 'imat': 3637,\n",
       " 'mums': 4675,\n",
       " '2nite': 415,\n",
       " '2moro': 404,\n",
       " 'lar': 4030,\n",
       " 'engin': 2615,\n",
       " 'cos': 2036,\n",
       " 'sis': 6227,\n",
       " 'arts': 1095,\n",
       " 'makes': 4350,\n",
       " 'dearer': 2210,\n",
       " 'de': 2202,\n",
       " 'happiness': 3347,\n",
       " 'dat': 2186,\n",
       " 'feel': 2817,\n",
       " 'dem': 2254,\n",
       " 'hooked': 3503,\n",
       " 'guys': 3295,\n",
       " 'thank': 6846,\n",
       " 've': 7308,\n",
       " 'wonderful': 7622,\n",
       " 'lol': 4203,\n",
       " 'member': 4460,\n",
       " 'aunt': 1157,\n",
       " 'flow': 2916,\n",
       " 'didn': 2315,\n",
       " 'cause': 1700,\n",
       " 'developed': 2292,\n",
       " 'ovarian': 5061,\n",
       " 'cysts': 2153,\n",
       " 'bc': 1273,\n",
       " 'shrink': 6178,\n",
       " 'india': 3681,\n",
       " 'bring': 1525,\n",
       " 'light': 4122,\n",
       " 'everyone': 2685,\n",
       " 'project': 5487,\n",
       " 'lucky': 4276,\n",
       " 'bye': 1607,\n",
       " 'abiola': 764,\n",
       " 'mila': 4500,\n",
       " 'age23': 874,\n",
       " 'blonde': 1410,\n",
       " 'uk': 7168,\n",
       " 'look': 4213,\n",
       " 'sex': 6084,\n",
       " 'mtalk': 4653,\n",
       " '69866': 606,\n",
       " '30pp': 441,\n",
       " '1st': 337,\n",
       " '5free': 574,\n",
       " 'increments': 3676,\n",
       " 'help08718728876': 3420,\n",
       " 'awarded': 1183,\n",
       " 'city': 1834,\n",
       " 'break': 1508,\n",
       " 'could': 2046,\n",
       " '200': 349,\n",
       " 'summer': 6639,\n",
       " 'shopping': 6151,\n",
       " 'spree': 6457,\n",
       " 'wk': 7601,\n",
       " 'store': 6545,\n",
       " '88039': 706,\n",
       " 'skilgme': 6243,\n",
       " 'tscs087147403231winawk': 7113,\n",
       " 'age16': 873,\n",
       " '50perwksub': 558,\n",
       " 'ni8': 4799,\n",
       " 'dear': 2208,\n",
       " 'slp': 6280,\n",
       " 'swt': 6712,\n",
       " 'dreams': 2467,\n",
       " 'muah': 4661,\n",
       " 'again': 869,\n",
       " '4d': 527,\n",
       " 'dad': 2158,\n",
       " '1405': 296,\n",
       " '1680': 317,\n",
       " '1843': 322,\n",
       " 'big': 1360,\n",
       " 'small': 6282,\n",
       " 'sat': 5953,\n",
       " 'sun': 6643,\n",
       " 'movies': 4635,\n",
       " 'side': 6192,\n",
       " 'yep': 7729,\n",
       " 'derek': 2273,\n",
       " 'sunday': 6645,\n",
       " 'record': 5680,\n",
       " 'arrange': 1087,\n",
       " 'brought': 1541,\n",
       " 'gmw': 3166,\n",
       " 'ltd': 4270,\n",
       " 'connected': 1987,\n",
       " 'read': 5637,\n",
       " 'issues': 3772,\n",
       " 'california': 1621,\n",
       " 'snow': 6316,\n",
       " 'manageable': 4361,\n",
       " 'sipix': 6223,\n",
       " 'digital': 2330,\n",
       " '09061221066': 194,\n",
       " 'fromm': 3029,\n",
       " 'landline': 4019,\n",
       " 'delivery': 2251,\n",
       " 'within': 7595,\n",
       " '28': 380,\n",
       " 'days': 2196,\n",
       " 'intro': 3735,\n",
       " 'covers': 2063,\n",
       " 'energy': 2611,\n",
       " 'trends': 7087,\n",
       " 'pros': 5503,\n",
       " 'cons': 1990,\n",
       " 'brief': 1520,\n",
       " 'description': 2276,\n",
       " 'nuclear': 4886,\n",
       " 'fusion': 3059,\n",
       " 'oso': 5036,\n",
       " 'history': 3459,\n",
       " 'iter': 3778,\n",
       " 'jet': 3837,\n",
       " 'pages': 5090,\n",
       " 'saying': 5969,\n",
       " 'explicitly': 2739,\n",
       " 'nora': 4850,\n",
       " 'probably': 5467,\n",
       " 'bother': 1460,\n",
       " 'thought': 6911,\n",
       " 'dinner': 2342,\n",
       " 'treat': 7080,\n",
       " 'seem': 6031,\n",
       " 'coming': 1930,\n",
       " 'confirm': 1977,\n",
       " 'wif': 7553,\n",
       " 'geeeee': 3108,\n",
       " 'much': 4662,\n",
       " 'barely': 1240,\n",
       " 'stand': 6481,\n",
       " 'after': 863,\n",
       " 'placement': 5268,\n",
       " 'prefer': 5419,\n",
       " 'tues': 7119,\n",
       " 'wed': 7474,\n",
       " 'fri': 3007,\n",
       " 'those': 6907,\n",
       " 'workin': 7637,\n",
       " 'awake': 1181,\n",
       " 'santa': 5940,\n",
       " 'ones': 4978,\n",
       " 'xmas': 7694,\n",
       " 'eve': 2672,\n",
       " '09058094583': 180,\n",
       " 'book': 1440,\n",
       " 'erm': 2648,\n",
       " 'pick': 5237,\n",
       " '45pm': 516,\n",
       " 'park': 5125,\n",
       " 'yup': 7769,\n",
       " 'elaborating': 2578,\n",
       " 'safety': 5918,\n",
       " 'aspects': 1118,\n",
       " 'boooo': 1446,\n",
       " 'quit': 5573,\n",
       " 'dint': 2343,\n",
       " 'touch': 7043,\n",
       " 'build': 1569,\n",
       " 'snowman': 6319,\n",
       " 'angels': 975,\n",
       " 'snowball': 6317,\n",
       " 'fights': 2848,\n",
       " 'ummmmmaah': 7178,\n",
       " 'returns': 5806,\n",
       " 'sweet': 6699,\n",
       " 'credit': 2085,\n",
       " 'sleeping': 6261,\n",
       " 'spys': 6462,\n",
       " 'online': 4981,\n",
       " 'checking': 1772,\n",
       " 'mails': 4344,\n",
       " 'wish': 7585,\n",
       " 'semester': 6047,\n",
       " 'xy': 7707,\n",
       " 'trying': 7108,\n",
       " 'smth': 6306,\n",
       " 'havent': 3374,\n",
       " 'best': 1338,\n",
       " 'tariffs': 6753,\n",
       " '2stoptxt': 422,\n",
       " 'cs': 2104,\n",
       " 'cash': 1686,\n",
       " 'balance': 1224,\n",
       " 'currently': 2133,\n",
       " 'pounds': 5386,\n",
       " 'maximize': 4417,\n",
       " '86688': 694,\n",
       " 'cc': 1706,\n",
       " '08718720201': 136,\n",
       " 'po': 5306,\n",
       " 'box': 1470,\n",
       " '114': 273,\n",
       " '14': 294,\n",
       " 'tcr': 6772,\n",
       " 'w1': 7378,\n",
       " 'him': 3451,\n",
       " 'tomo': 7007,\n",
       " 'lunchtime': 4282,\n",
       " 'organise': 5027,\n",
       " 'something': 6343,\n",
       " 'jay': 3817,\n",
       " 'wants': 7427,\n",
       " 'first': 2884,\n",
       " 'sound': 6380,\n",
       " 'urgent': 7254,\n",
       " 'number': 4890,\n",
       " 'prize': 5463,\n",
       " ...}"
      ]
     },
     "execution_count": 25,
     "metadata": {},
     "output_type": "execute_result"
    }
   ],
   "source": [
    "v.vocabulary_"
   ]
  },
  {
   "cell_type": "code",
   "execution_count": 35,
   "id": "c2eaeabf",
   "metadata": {},
   "outputs": [
    {
     "name": "stdout",
     "output_type": "stream",
     "text": [
      "['__annotations__', '__class__', '__delattr__', '__dict__', '__dir__', '__doc__', '__eq__', '__format__', '__ge__', '__getattribute__', '__getstate__', '__gt__', '__hash__', '__init__', '__init_subclass__', '__le__', '__lt__', '__module__', '__ne__', '__new__', '__reduce__', '__reduce_ex__', '__repr__', '__setattr__', '__setstate__', '__sizeof__', '__sklearn_clone__', '__str__', '__subclasshook__', '__weakref__', '_build_request_for_signature', '_char_ngrams', '_char_wb_ngrams', '_check_feature_names', '_check_n_features', '_check_stop_words_consistency', '_check_vocabulary', '_count_vocab', '_get_default_requests', '_get_metadata_request', '_get_param_names', '_get_tags', '_limit_features', '_more_tags', '_parameter_constraints', '_repr_html_', '_repr_html_inner', '_repr_mimebundle_', '_sort_features', '_stop_words_id', '_validate_data', '_validate_ngram_range', '_validate_params', '_validate_vocabulary', '_warn_for_unused_params', '_white_spaces', '_word_ngrams', 'analyzer', 'binary', 'build_analyzer', 'build_preprocessor', 'build_tokenizer', 'decode', 'decode_error', 'dtype', 'encoding', 'fit', 'fit_transform', 'fixed_vocabulary_', 'get_feature_names_out', 'get_metadata_routing', 'get_params', 'get_stop_words', 'input', 'inverse_transform', 'lowercase', 'max_df', 'max_features', 'min_df', 'ngram_range', 'preprocessor', 'set_fit_request', 'set_params', 'set_transform_request', 'stop_words', 'stop_words_', 'strip_accents', 'token_pattern', 'tokenizer', 'transform', 'vocabulary', 'vocabulary_']\n"
     ]
    }
   ],
   "source": [
    "print(dir(v))"
   ]
  },
  {
   "cell_type": "code",
   "execution_count": 26,
   "id": "f1eaa183",
   "metadata": {},
   "outputs": [
    {
     "data": {
      "text/plain": [
       "array([0, 0, 0, ..., 0, 0, 0], dtype=int64)"
      ]
     },
     "execution_count": 26,
     "metadata": {},
     "output_type": "execute_result"
    }
   ],
   "source": [
    "X_train_np = X_train_cv.toarray()\n",
    "X_train_np[0]\n"
   ]
  },
  {
   "cell_type": "code",
   "execution_count": 27,
   "id": "8daf4136",
   "metadata": {},
   "outputs": [
    {
     "data": {
      "text/plain": [
       "(array([ 946, 3442, 3490, 4952, 4971, 6859, 6981, 7458], dtype=int64),)"
      ]
     },
     "execution_count": 27,
     "metadata": {},
     "output_type": "execute_result"
    }
   ],
   "source": [
    "np.where(X_train_np[0]!=0)"
   ]
  },
  {
   "cell_type": "code",
   "execution_count": 28,
   "id": "d195b985",
   "metadata": {},
   "outputs": [
    {
     "data": {
      "text/plain": [
       "\"How to Make a girl Happy? It's not at all difficult to make girls happy. U only need to be... 1. A friend 2. Companion 3. Lover 4. Chef . . .  &lt;#&gt; . Good listener  &lt;#&gt; . Organizer  &lt;#&gt; . Good boyfriend  &lt;#&gt; . Very clean  &lt;#&gt; . Sympathetic  &lt;#&gt; . Athletic  &lt;#&gt; . Warm . . .  &lt;#&gt; . Courageous  &lt;#&gt; . Determined  &lt;#&gt; . True  &lt;#&gt; . Dependable  &lt;#&gt; . Intelligent . . .  &lt;#&gt; . Psychologist  &lt;#&gt; . Pest exterminator  &lt;#&gt; . Psychiatrist  &lt;#&gt; . Healer . .  &lt;#&gt; . Stylist  &lt;#&gt; . Driver . . Aaniye pudunga venaam..\""
      ]
     },
     "execution_count": 28,
     "metadata": {},
     "output_type": "execute_result"
    }
   ],
   "source": [
    "X_train[1579]"
   ]
  },
  {
   "cell_type": "code",
   "execution_count": 29,
   "id": "4effd623",
   "metadata": {},
   "outputs": [
    {
     "data": {
      "text/plain": [
       "0"
      ]
     },
     "execution_count": 29,
     "metadata": {},
     "output_type": "execute_result"
    }
   ],
   "source": [
    "X_train_np[0][1771]"
   ]
  },
  {
   "cell_type": "markdown",
   "id": "46a93ffc",
   "metadata": {},
   "source": [
    "# Train the naive bayes model"
   ]
  },
  {
   "cell_type": "code",
   "execution_count": 30,
   "id": "7fd8d9ee",
   "metadata": {},
   "outputs": [
    {
     "data": {
      "text/html": [
       "<style>#sk-container-id-1 {color: black;}#sk-container-id-1 pre{padding: 0;}#sk-container-id-1 div.sk-toggleable {background-color: white;}#sk-container-id-1 label.sk-toggleable__label {cursor: pointer;display: block;width: 100%;margin-bottom: 0;padding: 0.3em;box-sizing: border-box;text-align: center;}#sk-container-id-1 label.sk-toggleable__label-arrow:before {content: \"▸\";float: left;margin-right: 0.25em;color: #696969;}#sk-container-id-1 label.sk-toggleable__label-arrow:hover:before {color: black;}#sk-container-id-1 div.sk-estimator:hover label.sk-toggleable__label-arrow:before {color: black;}#sk-container-id-1 div.sk-toggleable__content {max-height: 0;max-width: 0;overflow: hidden;text-align: left;background-color: #f0f8ff;}#sk-container-id-1 div.sk-toggleable__content pre {margin: 0.2em;color: black;border-radius: 0.25em;background-color: #f0f8ff;}#sk-container-id-1 input.sk-toggleable__control:checked~div.sk-toggleable__content {max-height: 200px;max-width: 100%;overflow: auto;}#sk-container-id-1 input.sk-toggleable__control:checked~label.sk-toggleable__label-arrow:before {content: \"▾\";}#sk-container-id-1 div.sk-estimator input.sk-toggleable__control:checked~label.sk-toggleable__label {background-color: #d4ebff;}#sk-container-id-1 div.sk-label input.sk-toggleable__control:checked~label.sk-toggleable__label {background-color: #d4ebff;}#sk-container-id-1 input.sk-hidden--visually {border: 0;clip: rect(1px 1px 1px 1px);clip: rect(1px, 1px, 1px, 1px);height: 1px;margin: -1px;overflow: hidden;padding: 0;position: absolute;width: 1px;}#sk-container-id-1 div.sk-estimator {font-family: monospace;background-color: #f0f8ff;border: 1px dotted black;border-radius: 0.25em;box-sizing: border-box;margin-bottom: 0.5em;}#sk-container-id-1 div.sk-estimator:hover {background-color: #d4ebff;}#sk-container-id-1 div.sk-parallel-item::after {content: \"\";width: 100%;border-bottom: 1px solid gray;flex-grow: 1;}#sk-container-id-1 div.sk-label:hover label.sk-toggleable__label {background-color: #d4ebff;}#sk-container-id-1 div.sk-serial::before {content: \"\";position: absolute;border-left: 1px solid gray;box-sizing: border-box;top: 0;bottom: 0;left: 50%;z-index: 0;}#sk-container-id-1 div.sk-serial {display: flex;flex-direction: column;align-items: center;background-color: white;padding-right: 0.2em;padding-left: 0.2em;position: relative;}#sk-container-id-1 div.sk-item {position: relative;z-index: 1;}#sk-container-id-1 div.sk-parallel {display: flex;align-items: stretch;justify-content: center;background-color: white;position: relative;}#sk-container-id-1 div.sk-item::before, #sk-container-id-1 div.sk-parallel-item::before {content: \"\";position: absolute;border-left: 1px solid gray;box-sizing: border-box;top: 0;bottom: 0;left: 50%;z-index: -1;}#sk-container-id-1 div.sk-parallel-item {display: flex;flex-direction: column;z-index: 1;position: relative;background-color: white;}#sk-container-id-1 div.sk-parallel-item:first-child::after {align-self: flex-end;width: 50%;}#sk-container-id-1 div.sk-parallel-item:last-child::after {align-self: flex-start;width: 50%;}#sk-container-id-1 div.sk-parallel-item:only-child::after {width: 0;}#sk-container-id-1 div.sk-dashed-wrapped {border: 1px dashed gray;margin: 0 0.4em 0.5em 0.4em;box-sizing: border-box;padding-bottom: 0.4em;background-color: white;}#sk-container-id-1 div.sk-label label {font-family: monospace;font-weight: bold;display: inline-block;line-height: 1.2em;}#sk-container-id-1 div.sk-label-container {text-align: center;}#sk-container-id-1 div.sk-container {/* jupyter's `normalize.less` sets `[hidden] { display: none; }` but bootstrap.min.css set `[hidden] { display: none !important; }` so we also need the `!important` here to be able to override the default hidden behavior on the sphinx rendered scikit-learn.org. See: https://github.com/scikit-learn/scikit-learn/issues/21755 */display: inline-block !important;position: relative;}#sk-container-id-1 div.sk-text-repr-fallback {display: none;}</style><div id=\"sk-container-id-1\" class=\"sk-top-container\"><div class=\"sk-text-repr-fallback\"><pre>MultinomialNB()</pre><b>In a Jupyter environment, please rerun this cell to show the HTML representation or trust the notebook. <br />On GitHub, the HTML representation is unable to render, please try loading this page with nbviewer.org.</b></div><div class=\"sk-container\" hidden><div class=\"sk-item\"><div class=\"sk-estimator sk-toggleable\"><input class=\"sk-toggleable__control sk-hidden--visually\" id=\"sk-estimator-id-1\" type=\"checkbox\" checked><label for=\"sk-estimator-id-1\" class=\"sk-toggleable__label sk-toggleable__label-arrow\">MultinomialNB</label><div class=\"sk-toggleable__content\"><pre>MultinomialNB()</pre></div></div></div></div></div>"
      ],
      "text/plain": [
       "MultinomialNB()"
      ]
     },
     "execution_count": 30,
     "metadata": {},
     "output_type": "execute_result"
    }
   ],
   "source": [
    "from sklearn.naive_bayes import MultinomialNB\n",
    "\n",
    "model = MultinomialNB()\n",
    "model.fit(X_train_cv, y_train)"
   ]
  },
  {
   "cell_type": "code",
   "execution_count": 33,
   "id": "d9a63730",
   "metadata": {},
   "outputs": [],
   "source": [
    "X_test_cv = v.transform(X_test)\n"
   ]
  },
  {
   "cell_type": "markdown",
   "id": "bf7a99cf",
   "metadata": {},
   "source": [
    "# Evaluate Performance"
   ]
  },
  {
   "cell_type": "code",
   "execution_count": 34,
   "id": "52f2d391",
   "metadata": {},
   "outputs": [
    {
     "name": "stdout",
     "output_type": "stream",
     "text": [
      "              precision    recall  f1-score   support\n",
      "\n",
      "           0       0.98      1.00      0.99       968\n",
      "           1       0.98      0.90      0.94       147\n",
      "\n",
      "    accuracy                           0.98      1115\n",
      "   macro avg       0.98      0.95      0.96      1115\n",
      "weighted avg       0.98      0.98      0.98      1115\n",
      "\n"
     ]
    }
   ],
   "source": [
    "from sklearn.metrics import classification_report\n",
    "\n",
    "y_pred = model.predict(X_test_cv)\n",
    "\n",
    "print(classification_report(y_test, y_pred))\n"
   ]
  },
  {
   "cell_type": "code",
   "execution_count": 35,
   "id": "eff5ec43",
   "metadata": {},
   "outputs": [
    {
     "data": {
      "text/plain": [
       "array([0, 1], dtype=int64)"
      ]
     },
     "execution_count": 35,
     "metadata": {},
     "output_type": "execute_result"
    }
   ],
   "source": [
    "emails = [\n",
    "    'Hey mohan, can we get together to watch footbal game tomorrow?',\n",
    "    'Upto 20% discount on parking, exclusive offer just for you. Dont miss this reward!'\n",
    "]\n",
    "\n",
    "emails_count = v.transform(emails)\n",
    "model.predict(emails_count)\n"
   ]
  },
  {
   "cell_type": "markdown",
   "id": "e1126be8",
   "metadata": {},
   "source": [
    "# Train the model using sklearn pipeline and reduce number of lines of code\n"
   ]
  },
  {
   "cell_type": "code",
   "execution_count": 38,
   "id": "f8640de2",
   "metadata": {},
   "outputs": [],
   "source": [
    "from sklearn.pipeline import Pipeline\n",
    "\n",
    "clf = Pipeline([\n",
    "    ('vectorizer', CountVectorizer()),\n",
    "    ('nb', MultinomialNB())\n",
    "])\n"
   ]
  },
  {
   "cell_type": "code",
   "execution_count": 39,
   "id": "5cedd3ed",
   "metadata": {},
   "outputs": [
    {
     "data": {
      "text/html": [
       "<style>#sk-container-id-2 {color: black;}#sk-container-id-2 pre{padding: 0;}#sk-container-id-2 div.sk-toggleable {background-color: white;}#sk-container-id-2 label.sk-toggleable__label {cursor: pointer;display: block;width: 100%;margin-bottom: 0;padding: 0.3em;box-sizing: border-box;text-align: center;}#sk-container-id-2 label.sk-toggleable__label-arrow:before {content: \"▸\";float: left;margin-right: 0.25em;color: #696969;}#sk-container-id-2 label.sk-toggleable__label-arrow:hover:before {color: black;}#sk-container-id-2 div.sk-estimator:hover label.sk-toggleable__label-arrow:before {color: black;}#sk-container-id-2 div.sk-toggleable__content {max-height: 0;max-width: 0;overflow: hidden;text-align: left;background-color: #f0f8ff;}#sk-container-id-2 div.sk-toggleable__content pre {margin: 0.2em;color: black;border-radius: 0.25em;background-color: #f0f8ff;}#sk-container-id-2 input.sk-toggleable__control:checked~div.sk-toggleable__content {max-height: 200px;max-width: 100%;overflow: auto;}#sk-container-id-2 input.sk-toggleable__control:checked~label.sk-toggleable__label-arrow:before {content: \"▾\";}#sk-container-id-2 div.sk-estimator input.sk-toggleable__control:checked~label.sk-toggleable__label {background-color: #d4ebff;}#sk-container-id-2 div.sk-label input.sk-toggleable__control:checked~label.sk-toggleable__label {background-color: #d4ebff;}#sk-container-id-2 input.sk-hidden--visually {border: 0;clip: rect(1px 1px 1px 1px);clip: rect(1px, 1px, 1px, 1px);height: 1px;margin: -1px;overflow: hidden;padding: 0;position: absolute;width: 1px;}#sk-container-id-2 div.sk-estimator {font-family: monospace;background-color: #f0f8ff;border: 1px dotted black;border-radius: 0.25em;box-sizing: border-box;margin-bottom: 0.5em;}#sk-container-id-2 div.sk-estimator:hover {background-color: #d4ebff;}#sk-container-id-2 div.sk-parallel-item::after {content: \"\";width: 100%;border-bottom: 1px solid gray;flex-grow: 1;}#sk-container-id-2 div.sk-label:hover label.sk-toggleable__label {background-color: #d4ebff;}#sk-container-id-2 div.sk-serial::before {content: \"\";position: absolute;border-left: 1px solid gray;box-sizing: border-box;top: 0;bottom: 0;left: 50%;z-index: 0;}#sk-container-id-2 div.sk-serial {display: flex;flex-direction: column;align-items: center;background-color: white;padding-right: 0.2em;padding-left: 0.2em;position: relative;}#sk-container-id-2 div.sk-item {position: relative;z-index: 1;}#sk-container-id-2 div.sk-parallel {display: flex;align-items: stretch;justify-content: center;background-color: white;position: relative;}#sk-container-id-2 div.sk-item::before, #sk-container-id-2 div.sk-parallel-item::before {content: \"\";position: absolute;border-left: 1px solid gray;box-sizing: border-box;top: 0;bottom: 0;left: 50%;z-index: -1;}#sk-container-id-2 div.sk-parallel-item {display: flex;flex-direction: column;z-index: 1;position: relative;background-color: white;}#sk-container-id-2 div.sk-parallel-item:first-child::after {align-self: flex-end;width: 50%;}#sk-container-id-2 div.sk-parallel-item:last-child::after {align-self: flex-start;width: 50%;}#sk-container-id-2 div.sk-parallel-item:only-child::after {width: 0;}#sk-container-id-2 div.sk-dashed-wrapped {border: 1px dashed gray;margin: 0 0.4em 0.5em 0.4em;box-sizing: border-box;padding-bottom: 0.4em;background-color: white;}#sk-container-id-2 div.sk-label label {font-family: monospace;font-weight: bold;display: inline-block;line-height: 1.2em;}#sk-container-id-2 div.sk-label-container {text-align: center;}#sk-container-id-2 div.sk-container {/* jupyter's `normalize.less` sets `[hidden] { display: none; }` but bootstrap.min.css set `[hidden] { display: none !important; }` so we also need the `!important` here to be able to override the default hidden behavior on the sphinx rendered scikit-learn.org. See: https://github.com/scikit-learn/scikit-learn/issues/21755 */display: inline-block !important;position: relative;}#sk-container-id-2 div.sk-text-repr-fallback {display: none;}</style><div id=\"sk-container-id-2\" class=\"sk-top-container\"><div class=\"sk-text-repr-fallback\"><pre>Pipeline(steps=[(&#x27;vectorizer&#x27;, CountVectorizer()), (&#x27;nb&#x27;, MultinomialNB())])</pre><b>In a Jupyter environment, please rerun this cell to show the HTML representation or trust the notebook. <br />On GitHub, the HTML representation is unable to render, please try loading this page with nbviewer.org.</b></div><div class=\"sk-container\" hidden><div class=\"sk-item sk-dashed-wrapped\"><div class=\"sk-label-container\"><div class=\"sk-label sk-toggleable\"><input class=\"sk-toggleable__control sk-hidden--visually\" id=\"sk-estimator-id-2\" type=\"checkbox\" ><label for=\"sk-estimator-id-2\" class=\"sk-toggleable__label sk-toggleable__label-arrow\">Pipeline</label><div class=\"sk-toggleable__content\"><pre>Pipeline(steps=[(&#x27;vectorizer&#x27;, CountVectorizer()), (&#x27;nb&#x27;, MultinomialNB())])</pre></div></div></div><div class=\"sk-serial\"><div class=\"sk-item\"><div class=\"sk-estimator sk-toggleable\"><input class=\"sk-toggleable__control sk-hidden--visually\" id=\"sk-estimator-id-3\" type=\"checkbox\" ><label for=\"sk-estimator-id-3\" class=\"sk-toggleable__label sk-toggleable__label-arrow\">CountVectorizer</label><div class=\"sk-toggleable__content\"><pre>CountVectorizer()</pre></div></div></div><div class=\"sk-item\"><div class=\"sk-estimator sk-toggleable\"><input class=\"sk-toggleable__control sk-hidden--visually\" id=\"sk-estimator-id-4\" type=\"checkbox\" ><label for=\"sk-estimator-id-4\" class=\"sk-toggleable__label sk-toggleable__label-arrow\">MultinomialNB</label><div class=\"sk-toggleable__content\"><pre>MultinomialNB()</pre></div></div></div></div></div></div></div>"
      ],
      "text/plain": [
       "Pipeline(steps=[('vectorizer', CountVectorizer()), ('nb', MultinomialNB())])"
      ]
     },
     "execution_count": 39,
     "metadata": {},
     "output_type": "execute_result"
    }
   ],
   "source": [
    "clf.fit(X_train, y_train)"
   ]
  },
  {
   "cell_type": "code",
   "execution_count": 40,
   "id": "c2509584",
   "metadata": {},
   "outputs": [
    {
     "name": "stdout",
     "output_type": "stream",
     "text": [
      "              precision    recall  f1-score   support\n",
      "\n",
      "           0       0.98      1.00      0.99       968\n",
      "           1       0.98      0.90      0.94       147\n",
      "\n",
      "    accuracy                           0.98      1115\n",
      "   macro avg       0.98      0.95      0.96      1115\n",
      "weighted avg       0.98      0.98      0.98      1115\n",
      "\n"
     ]
    }
   ],
   "source": [
    "y_pred = clf.predict(X_test)\n",
    "\n",
    "print(classification_report(y_test, y_pred))\n"
   ]
  }
 ],
 "metadata": {
  "kernelspec": {
   "display_name": "Python 3 (ipykernel)",
   "language": "python",
   "name": "python3"
  },
  "language_info": {
   "codemirror_mode": {
    "name": "ipython",
    "version": 3
   },
   "file_extension": ".py",
   "mimetype": "text/x-python",
   "name": "python",
   "nbconvert_exporter": "python",
   "pygments_lexer": "ipython3",
   "version": "3.10.9"
  }
 },
 "nbformat": 4,
 "nbformat_minor": 5
}
